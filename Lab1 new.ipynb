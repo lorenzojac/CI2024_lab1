{
  "nbformat": 4,
  "nbformat_minor": 0,
  "metadata": {
    "colab": {
      "provenance": []
    },
    "kernelspec": {
      "name": "python3",
      "display_name": "Python 3"
    },
    "language_info": {
      "name": "python"
    }
  },
  "cells": [
    {
      "cell_type": "code",
      "source": [
        "from random import random, seed\n",
        "import numpy as np\n",
        "\n",
        "\n",
        "instances = [\n",
        "    {\"UNIVERSE_SIZE\": 100, \"NUM_SETS\": 10, \"DENSITY\": 0.2},\n",
        "    {\"UNIVERSE_SIZE\": 1000, \"NUM_SETS\": 100, \"DENSITY\": 0.2},\n",
        "    {\"UNIVERSE_SIZE\": 10000, \"NUM_SETS\": 1000, \"DENSITY\": 0.2},\n",
        "    {\"UNIVERSE_SIZE\": 100000, \"NUM_SETS\": 10000, \"DENSITY\": 0.1},\n",
        "    {\"UNIVERSE_SIZE\": 100000, \"NUM_SETS\": 10000, \"DENSITY\": 0.2},\n",
        "    {\"UNIVERSE_SIZE\": 100000, \"NUM_SETS\": 10000, \"DENSITY\": 0.3}\n",
        "]\n",
        "\n",
        "def valid(solution):\n",
        "    return np.all(np.logical_or.reduce(SETS[solution]))\n",
        "\n",
        "def cost(solution):\n",
        "    return COSTS[solution].sum()\n",
        "\n",
        "def tweak(solution: np.ndarray) -> np.ndarray:\n",
        "    new_solution = solution.copy()\n",
        "    i = rng.integers(0, NUM_SETS)\n",
        "    new_solution[i] = not new_solution[i]\n",
        "    return new_solution\n",
        "\n",
        "def fitness(solution: np.ndarray):\n",
        "    return -cost(solution)\n",
        "\n",
        "for instance in instances:\n",
        "    UNIVERSE_SIZE = instance[\"UNIVERSE_SIZE\"]\n",
        "    NUM_SETS = instance[\"NUM_SETS\"]\n",
        "    DENSITY = instance[\"DENSITY\"]\n",
        "\n",
        "    rng = np.random.Generator(np.random.PCG64([UNIVERSE_SIZE, NUM_SETS, int(10_000 * DENSITY)]))\n",
        "\n",
        "    SETS = np.random.random((NUM_SETS, UNIVERSE_SIZE)) < DENSITY\n",
        "    for s in range(UNIVERSE_SIZE):\n",
        "        if not np.any(SETS[:, s]):\n",
        "            SETS[np.random.randint(NUM_SETS), s] = True\n",
        "    COSTS = SETS.sum(axis=1) ** 1.1\n",
        "\n",
        "    solution = rng.integers(0, 2, NUM_SETS).astype(bool)\n",
        "\n",
        "    while not valid(solution):\n",
        "        solution = rng.integers(0, 2, NUM_SETS).astype(bool)\n",
        "\n",
        "    for step in range(1000):\n",
        "        new_solution = tweak(solution)\n",
        "        if valid(new_solution) and fitness(new_solution) > fitness(solution):\n",
        "            solution = new_solution\n",
        "\n",
        "    print(f\"Instance: {instance}\")\n",
        "    print(f\"Final solution cost: {cost(solution)}\")\n"
      ],
      "metadata": {
        "colab": {
          "base_uri": "https://localhost:8080/"
        },
        "id": "Pegvd_WL4D45",
        "outputId": "e9852c97-1ee6-4069-92ee-e3d54a7beb69"
      },
      "execution_count": 3,
      "outputs": [
        {
          "output_type": "stream",
          "name": "stdout",
          "text": [
            "Instance: {'UNIVERSE_SIZE': 100, 'NUM_SETS': 10, 'DENSITY': 0.2}\n",
            "Final solution cost: 280.8914693399734\n",
            "Instance: {'UNIVERSE_SIZE': 1000, 'NUM_SETS': 100, 'DENSITY': 0.2}\n",
            "Final solution cost: 6628.233013736274\n",
            "Instance: {'UNIVERSE_SIZE': 10000, 'NUM_SETS': 1000, 'DENSITY': 0.2}\n",
            "Final solution cost: 820265.4876965625\n",
            "Instance: {'UNIVERSE_SIZE': 100000, 'NUM_SETS': 10000, 'DENSITY': 0.1}\n",
            "Final solution cost: 114473381.54215953\n",
            "Instance: {'UNIVERSE_SIZE': 100000, 'NUM_SETS': 10000, 'DENSITY': 0.2}\n",
            "Final solution cost: 248673437.30657762\n",
            "Instance: {'UNIVERSE_SIZE': 100000, 'NUM_SETS': 10000, 'DENSITY': 0.3}\n",
            "Final solution cost: 378385878.2686726\n"
          ]
        }
      ]
    }
  ]
}