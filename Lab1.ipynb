{
  "nbformat": 4,
  "nbformat_minor": 0,
  "metadata": {
    "colab": {
      "provenance": []
    },
    "kernelspec": {
      "name": "python3",
      "display_name": "Python 3"
    },
    "language_info": {
      "name": "python"
    }
  },
  "cells": [
    {
      "cell_type": "code",
      "source": [
        "from random import random, seed\n",
        "from itertools import product\n",
        "import numpy as np\n",
        "from matplotlib import pyplot as plt\n",
        "\n",
        "UNIVERSE_SIZE = 1000\n",
        "NUM_SETS = 100\n",
        "DENSITY = 0.2\n",
        "\n",
        "rng = np.random.Generator(np.random.PCG64([UNIVERSE_SIZE, NUM_SETS, int(10_000 * DENSITY)]))\n",
        "\n",
        "# DON'T EDIT THESE LINES!\n",
        "\n",
        "SETS = np.random.random((NUM_SETS, UNIVERSE_SIZE)) < DENSITY\n",
        "for s in range(UNIVERSE_SIZE):\n",
        "    if not np.any(SETS[:, s]):\n",
        "        SETS[np.random.randint(NUM_SETS), s] = True\n",
        "COSTS = SETS.sum(axis=1)** 1.1\n",
        "\n"
      ],
      "metadata": {
        "id": "gczRJL6N13dH"
      },
      "execution_count": 25,
      "outputs": []
    },
    {
      "cell_type": "code",
      "source": [
        "\n",
        "def valid(solution):\n",
        "    return np.all(np.logical_or.reduce(SETS[solution]))\n",
        "\n",
        "def cost(solution):\n",
        "    return COSTS[solution].sum()\n",
        "\n",
        "def tweak(solution: np.ndarray) -> np.ndarray:\n",
        "    new_solution = solution.copy()\n",
        "    i = rng.integers(0, NUM_SETS)\n",
        "    new_solution[i] = not new_solution[i]\n",
        "    return new_solution\n",
        "\n",
        "def fitness(solution: np.ndarray):\n",
        "    return -cost(solution)"
      ],
      "metadata": {
        "id": "PDONwKipOeTQ"
      },
      "execution_count": 26,
      "outputs": []
    },
    {
      "cell_type": "code",
      "source": [
        "\n",
        "solution = rng.integers(0, 2, NUM_SETS).astype(bool)\n",
        "\n",
        "\n",
        "while not valid(solution):\n",
        "    solution = rng.integers(0, 2, NUM_SETS).astype(bool)\n",
        "\n",
        "for step in range(10_000):\n",
        "    new_solution = tweak(solution)\n",
        "    if valid(new_solution) and fitness(new_solution) > fitness(solution):\n",
        "        solution = new_solution\n",
        "\n",
        "print(\"Final solution cost:\", cost(solution))\n"
      ],
      "metadata": {
        "colab": {
          "base_uri": "https://localhost:8080/"
        },
        "id": "--JGp_oc5arl",
        "outputId": "3cdbcb86-8e20-45d8-f601-4bd899c071c4"
      },
      "execution_count": 39,
      "outputs": [
        {
          "output_type": "stream",
          "name": "stdout",
          "text": [
            "Final solution cost: 6736.556463536956\n"
          ]
        }
      ]
    }
  ]
}